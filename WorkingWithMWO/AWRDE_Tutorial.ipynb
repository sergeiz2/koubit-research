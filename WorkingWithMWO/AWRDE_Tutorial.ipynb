{
    "cells": [
        {
            "cell_type": "markdown",
            "metadata": {},
            "source": [
                "# AWRDE Tutorial\n",
                "***\n",
                "\n",
                "Just a simple tutorial for working with the AWRDE API."
            ]
        },
        {
            "cell_type": "markdown",
            "metadata": {},
            "source": [
                "## Imports\n",
                "***\n",
                "Import what you need:"
            ]
        },
        {
            "cell_type": "code",
            "execution_count": 1,
            "metadata": {},
            "outputs": [],
            "source": [
                "import pyawr.mwoffice as mwo\n",
                "import numpy as np\n",
                "import matplotlib.pyplot as plt\n",
                "\n",
                "#Agg rendering embedded in a Jupyter widget. (inline) Requires ipympl package.\n",
                "%matplotlib ipympl \n",
                "#Agg rendering to a Tk canvas (new window) Requires TkInter package.\n",
                "# %matplotlib tk "
            ]
        },
        {
            "cell_type": "markdown",
            "metadata": {},
            "source": [
                "## First steps:\n",
                "***\n",
                "\n",
                "We need to create an AWRDE object so that we can refer to it when we work with the API.  (Make sure your AWRDE project is open.)\n",
                "\n",
                "NOTE: if you have several versions of AWRDE, you should specify which one you want to work with: `awrde = mwo.CMWOffice(version='16.0')`"
            ]
        },
        {
            "cell_type": "code",
            "execution_count": 2,
            "metadata": {},
            "outputs": [],
            "source": [
                "awrde = mwo.CMWOffice() #Create awrde object"
            ]
        },
        {
            "cell_type": "markdown",
            "metadata": {},
            "source": [
                "Let's test if we can see the names of things in our AWR project."
            ]
        },
        {
            "cell_type": "code",
            "execution_count": 3,
            "metadata": {},
            "outputs": [
                {
                    "name": "stdout",
                    "output_type": "stream",
                    "text": [
                        "Tutorial.emp\n",
                        "Graph_Hanger\n",
                        "Hanger_Mode:DB(|S(2,1)|)\n"
                    ]
                }
            ],
            "source": [
                "# Things in AWRDE are indexed (starting with (1) if using parentheses, and starting with [0] if using brackets. \n",
                "# We look in the awrde object for the Project that's open. \n",
                "# We look in the Project for its Graphs. \n",
                "# We look in the Graphs for graph number 2, i.e Item(2).\n",
                "# Item number 2 in Graphs has a name, and we can use this name to refer to it. We'll call it graph_name:\n",
                "graph_name = awrde.Project.Graphs.Item(2).Name\n",
                "\n",
                "# The graph itself can be assigned to the variable 'graph' as follows:\n",
                "graph = awrde.Project.Graphs(graph_name)\n",
                "\n",
                "# We can get the actual measurements, i.e. the trace from the graph, as follows.\n",
                "# The following line will assign the first measurement in the graph to 'meas'.\n",
                "meas = graph.Measurements[0]\n",
                "\n",
                "# We print the project name to see if it works\n",
                "print(awrde.Project.Name)\n",
                "\n",
                "# We can also\n",
                "print(graph.Name)\n",
                "print(meas.Name)\n",
                "# Etc.\n",
                "# Code completion suggestions are helpful here."
            ]
        },
        {
            "cell_type": "markdown",
            "metadata": {},
            "source": [
                "The following command is necessary for running the actual analysis in AWRDE. You should get the AWRDE analysis popup after executing the following cell: \n",
                "\n",
                "![Simulation window](./SimulationWindow.png)\n"
            ]
        },
        {
            "cell_type": "code",
            "execution_count": 4,
            "metadata": {},
            "outputs": [],
            "source": [
                "awrde.Project.Simulator.Analyze() #Invoke circuit simulator analysis"
            ]
        },
        {
            "cell_type": "markdown",
            "metadata": {},
            "source": [
                "## Plotting With Numpy:\n",
                "\n",
                "***\n",
                "\n",
                "We can plot the various \"measurements\" from AWRDE pretty easily:"
            ]
        },
        {
            "cell_type": "code",
            "execution_count": 5,
            "metadata": {},
            "outputs": [
                {
                    "data": {
                        "application/vnd.jupyter.widget-view+json": {
                            "model_id": "75d5886fc5be402fadccef40420ea8de",
                            "version_major": 2,
                            "version_minor": 0
                        },
                        "text/plain": [
                            "Canvas(toolbar=Toolbar(toolitems=[('Home', 'Reset original view', 'home', 'home'), ('Back', 'Back to previous …"
                        ]
                    },
                    "metadata": {},
                    "output_type": "display_data"
                }
            ],
            "source": [
                "fig = plt.figure()\n",
                "ax = plt.subplot(1,1,1)\n",
                "\n",
                "# The following can be a useful API call to know, but in general \n",
                "# this kind of variable initialization is not very useful. \n",
                "num_pts = meas.XPointCount \n",
                "xs = ys = np.zeros(num_pts)\n",
                "\n",
                "xs = meas.XValues\n",
                "ys = meas.YValues(1)\n",
                "\n",
                "ax.plot(xs, ys)\n",
                "plt.show()"
            ]
        },
        {
            "cell_type": "markdown",
            "metadata": {},
            "source": [
                "That's about it for basic functionality of the API that I wanted to show. As I mentioned before, code completion is probably the most useful tool for getting used to it. That said, there's an API reference in the same folder as this notebook with more detailed coverage of all the functionality."
            ]
        },
        {
            "cell_type": "markdown",
            "metadata": {},
            "source": [
                "# Extra Stuff:\n",
                "## Animations With Numpy:\n",
                "\n",
                "***\n",
                "\n",
                "While working with AWR and Python, I found myself rerunning `awrde.Project.Simulator.Analyze()` many times as I messed with circuit values in AWR. This seemed unideal so I came up with a \"better\" solution...  \n",
                "\n",
                "Now, if I wanted to see graphs change in real-time when messing with the tuner in AWRDE for example, I could do the following:\n",
                "\n",
                "Add this import statement. (You can read more about matplotlib's [FuncAnimation](https://matplotlib.org/stable/api/_as_gen/matplotlib.animation.FuncAnimation.html) online.)"
            ]
        },
        {
            "cell_type": "code",
            "execution_count": 6,
            "metadata": {},
            "outputs": [],
            "source": [
                "from matplotlib.animation import FuncAnimation "
            ]
        },
        {
            "cell_type": "markdown",
            "metadata": {},
            "source": [
                "### Some Jupyter magic:\n",
                "Actually, this doesn't fully help us animate things in Jupyter notebooks, which normally render static images when you plot things. \n",
                "\n",
                "Enabling AGG rendering required some \"magic,\" and even then it is kinda buggy. That said, matplotlib can work with several [backends](https://matplotlib.org/stable/tutorials/introductory/usage.html#the-builtin-backends) that enable this functionality.\n",
                "\n",
                " [**ipympl**](https://github.com/matplotlib/ipympl):  \n",
                " ipympl will render animations inline in a jupyter notebook. It can be buggy and sometimes cell execution hangs, requiring a restart of the python kernel.\n",
                "\n",
                " ```conda install -c conda-forge ipympl```\n",
                "\n",
                " [**tkinter**](https://docs.python.org/3/library/tkinter.html):  \n",
                " tkinter will render graphs in a seperate window. This is useful when you want to plot a lot of stuff at once.\n",
                "\n",
                " ```conda install tk```\n",
                "\n",
                " They won't both work together, so one needs to be picked. Also since this is weird Jupyter magic you can't have inline comments. \n",
                "\n",
                " * Bad:  \n",
                "   `%matplotlib ipympl     # magical magic`  \n",
                " &nbsp;\n",
                " * Good:   \n",
                "  `# magical`  \n",
                "  `%matplotlib ipympl`  \n",
                "  `# magic`  \n",
                "\n",
                "Now, if you enable the tuner tool in AWRDE and move the values around you should see the graph below change.\n",
                "\n",
                "**NOTE: *This line needs to remain immediately after the import statements for it to work,*** that's why it's where it is. If you want to see the graphs in a seperate window, rerun the code with the ipympl commented out and the tk line uncommented:\n",
                "\n",
                "```\n",
                "#Agg rendering embedded in a Jupyter widget. (inline) Requires ipympl package\n",
                "#%matplotlib ipympl \n",
                "#Agg rendering to a Tk canvas (new window) Requires TkInter package\n",
                "%matplotlib tk \n",
                "```"
            ]
        },
        {
            "cell_type": "code",
            "execution_count": 7,
            "metadata": {},
            "outputs": [
                {
                    "data": {
                        "application/vnd.jupyter.widget-view+json": {
                            "model_id": "a980eb81c7d74d7abce90c7f3c9eb3fe",
                            "version_major": 2,
                            "version_minor": 0
                        },
                        "text/plain": [
                            "Canvas(toolbar=Toolbar(toolitems=[('Home', 'Reset original view', 'home', 'home'), ('Back', 'Back to previous …"
                        ]
                    },
                    "metadata": {},
                    "output_type": "display_data"
                }
            ],
            "source": [
                "num_pts = meas.XPointCount\n",
                "xs = ys = np.zeros(num_pts)\n",
                "\n",
                "def animate(n_frm): #Animate method for FuncAnimation\n",
                "    xs = np.asarray(meas.XValues)\n",
                "    ys = np.asarray(meas.YValues(1))\n",
                "\n",
                "    # trace.set_data(xs, ys)\n",
                "\n",
                "    axx.cla()\n",
                "    axx.plot(xs, ys, 'r')\n",
                "\n",
                "    # return [trace] #Necessary to return Artist objects if blit=True in FuncAnimation\n",
                "\n",
                "figg = plt.figure()\n",
                "axx = plt.subplot(1,1,1)\n",
                "\n",
                "ani = FuncAnimation(figg, animate, interval=200, blit=False) #Create animation object. blit=True is for smoother animations, only changed data should be updated.\n",
                "plt.show()\n"
            ]
        },
        {
            "cell_type": "markdown",
            "metadata": {},
            "source": [
                "## Other Miscellaneous Stuff:\n",
                "\n",
                "***\n",
                "\n",
                "### Listing Schematics"
            ]
        },
        {
            "cell_type": "code",
            "execution_count": 8,
            "metadata": {},
            "outputs": [
                {
                    "name": "stdout",
                    "output_type": "stream",
                    "text": [
                        "Hanger_Mode\n",
                        "Parallel_Mode\n",
                        "Sample_Subcircuit\n"
                    ]
                }
            ],
            "source": [
                "NumSchem = awrde.Project.Schematics.Count\n",
                "\n",
                "for s_id in range(NumSchem):\n",
                "    schem = awrde.Project.Schematics[s_id]\n",
                "    print(schem.Name)"
            ]
        },
        {
            "cell_type": "markdown",
            "metadata": {},
            "source": [
                "### Resetting Frequencies"
            ]
        },
        {
            "cell_type": "code",
            "execution_count": 9,
            "metadata": {},
            "outputs": [
                {
                    "data": {
                        "text/plain": [
                            "<function __main__.reset_freqs(l_bnd=7000000000.0, u_bnd=8600000000.0, steps=10000)>"
                        ]
                    },
                    "execution_count": 9,
                    "metadata": {},
                    "output_type": "execute_result"
                }
            ],
            "source": [
                "def reset_freqs (l_bnd=7e9, u_bnd=8.6e9, steps=10000):\n",
                "    '''\n",
                "    Reset the MWO project frequencies.\n",
                "\n",
                "    returns an array running from \n",
                "    lower_bound to upper_bound in steps steps.\n",
                "    '''\n",
                "    \n",
                "    awrde.Project.Frequencies.Clear() # clear the frequencies specified for the project\n",
                "    freq_arr = np.linspace(l_bnd, u_bnd, steps)\n",
                "    awrde.Project.Frequencies.AddMultiple(freq_arr) # add the frequencies in the passed frequency array\n",
                "\n",
                "    awrde.Project.Simulator.Analyze() # must run this every time after setting or changing things in MWO project!\n",
                "\n",
                "    return freq_arr\n",
                "\n",
                "reset_freqs"
            ]
        },
        {
            "cell_type": "markdown",
            "metadata": {},
            "source": [
                "### Setting Circuit Paramters\n",
                " * The first Schematic is 'Hanger_Mode'\n",
                "    * Its first element is 'CAP.C2'\n",
                "        * 'CAP.C2''s second parameter is 'C' (capacitance.) (The first one is 'ID'.)"
            ]
        },
        {
            "cell_type": "code",
            "execution_count": 10,
            "metadata": {},
            "outputs": [],
            "source": [
                "awrde.Project.Schematics(1).Elements(1).Parameters(2).ValueAsDouble = 5.43e-13"
            ]
        },
        {
            "cell_type": "markdown",
            "metadata": {},
            "source": [
                "### Getting Circuit Paramters"
            ]
        },
        {
            "cell_type": "code",
            "execution_count": 11,
            "metadata": {},
            "outputs": [
                {
                    "data": {
                        "text/plain": [
                            "5.43e-13"
                        ]
                    },
                    "execution_count": 11,
                    "metadata": {},
                    "output_type": "execute_result"
                }
            ],
            "source": [
                "awrde.Project.Schematics(1).Elements(1).Parameters(2).ValueAsDouble"
            ]
        },
        {
            "cell_type": "markdown",
            "metadata": {},
            "source": [
                "## Conclusion: \n",
                "***\n",
                "This about covers the useful things that I learned how to do. See the other files for more not-so-neat examples of what can be done. `circle_fit_sandbox.ipynb` in the `../ResonatorSensitivity` directory might have the best examples."
            ]
        }
    ],
    "metadata": {
        "interpreter": {
            "hash": "fba39022334ef9db8c381a2013e5ba8bafaea5a0f370d6e0fb3e2cee7eb836b9"
        },
        "kernelspec": {
            "display_name": "Python 3.8.10 64-bit (conda)",
            "name": "python3"
        },
        "language_info": {
            "codemirror_mode": {
                "name": "ipython",
                "version": 3
            },
            "file_extension": ".py",
            "mimetype": "text/x-python",
            "name": "python",
            "nbconvert_exporter": "python",
            "pygments_lexer": "ipython3",
            "version": "3.8.10"
        },
        "orig_nbformat": 4
    },
    "nbformat": 4,
    "nbformat_minor": 2
}
