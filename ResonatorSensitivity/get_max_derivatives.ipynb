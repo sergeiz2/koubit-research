{
 "cells": [
  {
   "cell_type": "code",
   "execution_count": 6,
   "source": [
    "import pyawr.mwoffice as mwo\r\n",
    "import numpy as np\r\n",
    "\r\n",
    "from scipy.interpolate import make_interp_spline, BSpline"
   ],
   "outputs": [],
   "metadata": {}
  },
  {
   "cell_type": "code",
   "execution_count": 7,
   "source": [
    "awrde = mwo.CMWOffice() #Create awrde object\r\n",
    "awrde.Project.Simulator.Analyze() #Invoke circuit simulator analysis"
   ],
   "outputs": [],
   "metadata": {}
  },
  {
   "cell_type": "code",
   "execution_count": 8,
   "source": [
    "graph_name = awrde.Project.Graphs.Item(2).Name\r\n",
    "graph = awrde.Project.Graphs(graph_name)\r\n",
    "meas = graph.Measurements[0]\r\n",
    "\r\n",
    "num_pts = meas.XPointCount\r\n",
    "xs = ys = np.zeros(num_pts)"
   ],
   "outputs": [],
   "metadata": {}
  },
  {
   "cell_type": "code",
   "execution_count": null,
   "source": [
    "def get_max_deriv(xs, ys):\r\n",
    "    dys = np.gradient(ys, xs)\r\n",
    "    abs_dys = np.abs(dys)\r\n",
    "\r\n",
    "    ind_max_abs_dys = np.argmax(dys) # kinda ungainly, but this prevents an unnecessary call to numpy.\r\n",
    "    max_abs_dys = dys[ind_max_abs_dys]\r\n",
    "    freq_max_abs_dys = xs[ind_max_abs_dys]\r\n",
    "\r\n",
    "    return (freq_max_abs_dys, max_abs_dys) # returns a tuple: (frequency, maximum derivative)\r\n",
    "\r\n",
    "def get_max_deriv_smooth(xs, ys):\r\n",
    "    dys = np.gradient(ys, xs)\r\n",
    "    abs_dys = np.abs(dys)\r\n",
    "\r\n",
    "    # TODO: is this spline resolution high enough?\r\n",
    "    new_xs = np.linspace(xs.min(), xs.max(), 300)\r\n",
    "    # spl_ys = make_interp_spline(xs, ys, k=7)  # type: BSpline\r\n",
    "    # spl_dys = make_interp_spline(xs, dys, k=7)\r\n",
    "    # TODO: Set a good k value\r\n",
    "    spl_abs_dys = make_interp_spline(xs, abs_dys, k=7)\r\n",
    "\r\n",
    "    ys_smooth = spl_ys(new_xs)\r\n",
    "    # dys_smooth = spl_dys(new_xs)\r\n",
    "    abs_dys_smooth = spl_abs_dys(new_xs)\r\n",
    "\r\n",
    "    ind_max_abs_dys_smooth = np.argmax(abs_dys_smooth) # kinda ungainly, but this prevents an unnecessary call to numpy.\r\n",
    "    max_abs_dys_smooth = dys[ind_max_abs_dys_smooth]\r\n",
    "    freq_max_abs_dys_smooth = xs[ind_max_abs_dys_smooth]\r\n",
    "\r\n",
    "    return (freq_max_abs_dys_smooth, max_abs_dys_smooth) # returns a tuple: (frequency, maximum derivative)"
   ],
   "outputs": [],
   "metadata": {}
  }
 ],
 "metadata": {
  "orig_nbformat": 4,
  "language_info": {
   "name": "python",
   "version": "3.8.10"
  },
  "kernelspec": {
   "name": "python3",
   "display_name": "Python 3.8.10 64-bit (conda)"
  },
  "interpreter": {
   "hash": "fba39022334ef9db8c381a2013e5ba8bafaea5a0f370d6e0fb3e2cee7eb836b9"
  }
 },
 "nbformat": 4,
 "nbformat_minor": 2
}