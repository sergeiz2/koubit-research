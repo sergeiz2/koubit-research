{
    "cells": [
        {
            "cell_type": "code",
            "execution_count": 2,
            "source": [
                "import pyawr.mwoffice as mwo\r\n",
                "import numpy as np\r\n",
                "import matplotlib.pyplot as plt\r\n",
                "\r\n",
                "from matplotlib.animation import FuncAnimation \r\n",
                "\r\n",
                "'***PICK ONE***'\r\n",
                "#Agg rendering embedded in a Jupyter widget. (inline) Requires ipympl:\r\n",
                "# %matplotlib ipympl \r\n",
                "#Agg rendering to a Tk canvas (new window) Requires TkInter:\r\n",
                "%matplotlib tk "
            ],
            "outputs": [],
            "metadata": {}
        },
        {
            "cell_type": "code",
            "execution_count": 3,
            "source": [
                "awrde = mwo.CMWOffice() #Create awrde object\r\n",
                "awrde.Project.Simulator.Analyze() #Invoke circuit simulator analysis"
            ],
            "outputs": [],
            "metadata": {}
        },
        {
            "cell_type": "code",
            "execution_count": 4,
            "source": [
                "graph_name = awrde.Project.Graphs.Item(2).Name\r\n",
                "graph = awrde.Project.Graphs(graph_name)\r\n",
                "meas = graph.Measurements[0]\r\n",
                "\r\n",
                "num_pts = meas.XPointCount\r\n",
                "xs = ys = dys = np.zeros(num_pts)"
            ],
            "outputs": [],
            "metadata": {}
        },
        {
            "cell_type": "code",
            "execution_count": 5,
            "source": [
                "#Let's try to interpolate:\r\n",
                "from scipy.interpolate import make_interp_spline, BSpline"
            ],
            "outputs": [],
            "metadata": {}
        },
        {
            "cell_type": "code",
            "execution_count": 6,
            "source": [
                "def animate_smooth(n_frm): #Animate method for FuncAnimation\r\n",
                "    xs = np.asarray(meas.XValues)\r\n",
                "    ys = np.asarray(meas.YValues(1))\r\n",
                "    dys = np.gradient(ys, xs)\r\n",
                "    abs_dys = np.abs(dys)\r\n",
                "\r\n",
                "    new_xs = np.linspace(xs.min(), xs.max(), 300)\r\n",
                "\r\n",
                "    spl_ys = make_interp_spline(xs, ys, k=7)  # type: BSpline\r\n",
                "    spl_dys = make_interp_spline(xs, dys, k=7)\r\n",
                "    spl_abs_dys = make_interp_spline(xs, abs_dys, k=7)\r\n",
                "\r\n",
                "    ys_smooth = spl_ys(new_xs)\r\n",
                "    dys_smooth = spl_dys(new_xs)\r\n",
                "    abs_dys_smooth = spl_abs_dys(new_xs)\r\n",
                "\r\n",
                "    axs_smooth[0, 0].cla()\r\n",
                "    axs_smooth[1, 0].cla()\r\n",
                "    axs_smooth[2, 0].cla()\r\n",
                "    axs_smooth[0, 0].plot(xs, ys, 'r.')\r\n",
                "    axs_smooth[1, 0].plot(xs, dys, 'b.')\r\n",
                "    axs_smooth[2, 0].plot(xs, abs_dys, 'g.')\r\n",
                "\r\n",
                "    axs_smooth[0, 1].cla()\r\n",
                "    axs_smooth[1, 1].cla()\r\n",
                "    axs_smooth[2, 1].cla()\r\n",
                "    axs_smooth[0, 1].plot(new_xs, ys_smooth, 'r')\r\n",
                "    axs_smooth[1, 1].plot(new_xs, dys_smooth, 'b')\r\n",
                "    axs_smooth[2, 1].plot(new_xs, abs_dys_smooth, 'g')"
            ],
            "outputs": [],
            "metadata": {}
        },
        {
            "cell_type": "code",
            "execution_count": 7,
            "source": [
                "# TODO: Get zoom to work?\r\n",
                "fig_smooth, axs_smooth = plt.subplots(3, 2, sharex='all', sharey='row')\r\n",
                "\r\n",
                "\r\n",
                "#TODO: Figure out this blit thing\r\n",
                "ani = FuncAnimation(fig_smooth, animate_smooth, interval=200, blit=False) #Create animation object. blit=True is for smoother animations, only changed data should be updated.\r\n",
                "plt.show()"
            ],
            "outputs": [],
            "metadata": {}
        }
    ],
    "metadata": {
        "orig_nbformat": 4,
        "language_info": {
            "name": "python",
            "version": "3.8.10",
            "mimetype": "text/x-python",
            "codemirror_mode": {
                "name": "ipython",
                "version": 3
            },
            "pygments_lexer": "ipython3",
            "nbconvert_exporter": "python",
            "file_extension": ".py"
        },
        "kernelspec": {
            "name": "python3",
            "display_name": "Python 3.8.10 64-bit (conda)"
        },
        "interpreter": {
            "hash": "fba39022334ef9db8c381a2013e5ba8bafaea5a0f370d6e0fb3e2cee7eb836b9"
        }
    },
    "nbformat": 4,
    "nbformat_minor": 2
}