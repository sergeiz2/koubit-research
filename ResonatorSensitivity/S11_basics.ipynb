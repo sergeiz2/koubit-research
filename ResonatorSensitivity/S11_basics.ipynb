{
    "cells": [
        {
            "cell_type": "code",
            "execution_count": 6,
            "source": [
                "import pyawr.mwoffice as mwo\r\n",
                "import numpy as np\r\n",
                "import matplotlib.pyplot as plt\r\n",
                "\r\n",
                "from matplotlib.animation import FuncAnimation \r\n",
                "\r\n",
                "'***PICK ONE***'\r\n",
                "#Agg rendering embedded in a Jupyter widget. (inline) Requires ipympl:\r\n",
                "%matplotlib ipympl \r\n",
                "#Agg rendering to a Tk canvas (new window) Requires TkInter:\r\n",
                "# %matplotlib tk "
            ],
            "outputs": [],
            "metadata": {}
        },
        {
            "cell_type": "code",
            "execution_count": 7,
            "source": [
                "awrde = mwo.CMWOffice() #Create awrde object\r\n",
                "awrde.Project.Simulator.Analyze() #Invoke circuit simulator analysis"
            ],
            "outputs": [],
            "metadata": {}
        },
        {
            "cell_type": "code",
            "execution_count": 8,
            "source": [
                "graph_name = awrde.Project.Graphs.Item(2).Name\r\n",
                "graph = awrde.Project.Graphs(graph_name)\r\n",
                "meas = graph.Measurements[0]\r\n",
                "\r\n",
                "num_pts = meas.XPointCount\r\n",
                "xs = ys = np.zeros(num_pts)"
            ],
            "outputs": [],
            "metadata": {}
        },
        {
            "cell_type": "code",
            "execution_count": 9,
            "source": [
                "def animate(n_frm): #Animate method for FuncAnimation\r\n",
                "    xs = np.asarray(meas.XValues)\r\n",
                "    ys = np.asarray(meas.YValues(1))\r\n",
                "\r\n",
                "    # trace.set_data(xs, ys)\r\n",
                "\r\n",
                "    ax.cla()\r\n",
                "    ax.plot(xs, ys, 'r')\r\n",
                "\r\n",
                "    # return [trace] #Necessary to return Artist objects if blit=True in FuncAnimation\r\n"
            ],
            "outputs": [],
            "metadata": {}
        },
        {
            "cell_type": "code",
            "execution_count": 10,
            "source": [
                "fig = plt.figure()\r\n",
                "ax = plt.subplot(1,1,1)\r\n",
                "\r\n",
                "#TODO: Figure out this blit thing\r\n",
                "ani = FuncAnimation(fig, animate, interval=200, blit=False) #Create animation object. blit=True is for smoother animations, only changed data should be updated.\r\n",
                "plt.show()"
            ],
            "outputs": [
                {
                    "output_type": "display_data",
                    "data": {
                        "text/plain": [
                            "Canvas(toolbar=Toolbar(toolitems=[('Home', 'Reset original view', 'home', 'home'), ('Back', 'Back to previous …"
                        ],
                        "application/vnd.jupyter.widget-view+json": {
                            "version_major": 2,
                            "version_minor": 0,
                            "model_id": "26a3443392cd4beca8defb3a3667b4f1"
                        }
                    },
                    "metadata": {}
                }
            ],
            "metadata": {}
        }
    ],
    "metadata": {
        "orig_nbformat": 4,
        "language_info": {
            "name": "python",
            "version": "3.8.10",
            "mimetype": "text/x-python",
            "codemirror_mode": {
                "name": "ipython",
                "version": 3
            },
            "pygments_lexer": "ipython3",
            "nbconvert_exporter": "python",
            "file_extension": ".py"
        },
        "kernelspec": {
            "name": "python3",
            "display_name": "Python 3.8.10 64-bit (conda)"
        },
        "interpreter": {
            "hash": "fba39022334ef9db8c381a2013e5ba8bafaea5a0f370d6e0fb3e2cee7eb836b9"
        }
    },
    "nbformat": 4,
    "nbformat_minor": 2
}