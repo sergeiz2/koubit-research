{
 "cells": [
  {
   "cell_type": "code",
   "execution_count": 4,
   "source": [
    "import pyawr.mwoffice as mwo\r\n",
    "\r\n",
    "import numpy as np\r\n",
    "from numpy.polynomial.polynomial import polyfit\r\n",
    "\r\n",
    "import matplotlib.pyplot as plt\r\n",
    "\r\n",
    "#***PICK ONE***\r\n",
    "#Agg rendering embedded in a Jupyter widget. (inline) Requires ipympl:\r\n",
    "# %matplotlib ipympl \r\n",
    "#Agg rendering to a Tk canvas (new window) Requires TkInter:\r\n",
    "%matplotlib tk "
   ],
   "outputs": [],
   "metadata": {}
  },
  {
   "cell_type": "code",
   "execution_count": 5,
   "source": [
    "awrde = mwo.CMWOffice() #Create awrde object\r\n",
    "awrde.Project.Simulator.Analyze() #Invoke circuit simulator analysis"
   ],
   "outputs": [],
   "metadata": {}
  },
  {
   "cell_type": "code",
   "execution_count": 3,
   "source": [
    "def reset_freqs (l_bnd=4e9, u_bnd=8e9, steps=10000):\r\n",
    "    '''Reset the MWO project frequencies.\r\n",
    "\r\n",
    "    returns an array running from \r\n",
    "    lower_bound to upper_bound in steps steps.'''\r\n",
    "    \r\n",
    "    awrde.Project.Frequencies.Clear() # clear the frequencies specified for the project\r\n",
    "    freq_arr = np.linspace(l_bnd, u_bnd, steps)\r\n",
    "    awrde.Project.Frequencies.AddMultiple(freq_arr) # add the frequencies in the passed frequency array\r\n",
    "\r\n",
    "    awrde.Project.Simulator.Analyze() # must run this every time after setting or changing things in MWO project!\r\n",
    "\r\n",
    "    return freq_arr"
   ],
   "outputs": [],
   "metadata": {}
  },
  {
   "cell_type": "code",
   "execution_count": 4,
   "source": [
    "def set_circ_params(circ_name='Sample_Subcircuit', get_params=False, **kwargs): \r\n",
    "    '''Sets specified circuit parameters in circuit called circ_name.\r\n",
    "    \r\n",
    "\r\n",
    "    If you attempt to pass a parameter that doesn't exit in the circuit called circ_name, \r\n",
    "    MWO will throw an error.\r\n",
    "\r\n",
    "    Returns a dictionary with the new values.\r\n",
    "    '''\r\n",
    "\r\n",
    "    passed_circ_param_vals = { # dictionary of subcircuit element parameter values (e.g. the value of the capacitor (element's) capacitance (parameter.))\r\n",
    "        'CAP': awrde.Project.Schematics(circ_name).Elements(1).Parameters(2).ValueAsDouble,\r\n",
    "        'IND': awrde.Project.Schematics(circ_name).Elements(2).Parameters(2).ValueAsDouble,\r\n",
    "        'RES': awrde.Project.Schematics(circ_name).Elements(3).Parameters(2).ValueAsDouble\r\n",
    "    }\r\n",
    "    passed_circ_params = { # dictionary of subcircuit component \r\n",
    "        'CAP': awrde.Project.Schematics(circ_name).Elements(1).Parameters(2),\r\n",
    "        'IND': awrde.Project.Schematics(circ_name).Elements(2).Parameters(2),\r\n",
    "        'RES': awrde.Project.Schematics(circ_name).Elements(3).Parameters(2)\r\n",
    "    }\r\n",
    "\r\n",
    "    # print(\"DEBUG: Setting:\" + kwargs.__str__())\r\n",
    "\r\n",
    "    new_circ_param_vals = {**passed_circ_param_vals, **kwargs} # in the case of duplicate keys, only the later key-value pair is preserved\r\n",
    "    # print(\"DEBUG: new parameters:\" + new_circ_param_vals.__str__())\r\n",
    "\r\n",
    "    for i, value in enumerate(new_circ_param_vals.values()):\r\n",
    "        list(passed_circ_params.values())[i].ValueAsDouble = value # in python3, dict.keys(), .values(), and .items() return dynamically changing view objects, but not the objects themselves. Hence, list().\r\n",
    "\r\n",
    "        # print(\"DEBUG: \" + list(passed_circ_param_vals)[i] + \" set to \" + str(value))\r\n",
    "    \r\n",
    "    if not(get_params):\r\n",
    "        awrde.Project.Simulator.Analyze() # must run this every time after setting or changing things in MWO project!\r\n",
    "\r\n",
    "    return new_circ_param_vals"
   ],
   "outputs": [],
   "metadata": {}
  },
  {
   "cell_type": "code",
   "execution_count": 8,
   "source": [
    "def create_polar_graph(schem_name='Hanger_Test'):\r\n",
    "    graphs = awrde.Project.Graphs\r\n",
    "    # TODO: Name helper graph appropriately\r\n",
    "    graph = graphs.Add(\"CalcHelper {}\".format(schem_name), mwo.mwGraphType.mwGT_Polar)\r\n",
    "\r\n",
    "    graph.Measurements.Add(schem_name, 'S(2,1)')\r\n",
    "\r\n",
    "    return graph"
   ],
   "outputs": [
    {
     "output_type": "execute_result",
     "data": {
      "text/plain": [
       "'CalcHelper Hanger_Test'"
      ]
     },
     "metadata": {},
     "execution_count": 8
    }
   ],
   "metadata": {}
  },
  {
   "cell_type": "code",
   "execution_count": null,
   "source": [
    "def get_meas_vals(graph=None):\r\n",
    "    #TODO: iterate over all measurement indicies, add a try-catch for when there's only 1 measurement on the graph\r\n",
    "    meas = graph.Measurements[0]\r\n",
    "\r\n",
    "    meas.XValues"
   ],
   "outputs": [],
   "metadata": {}
  },
  {
   "cell_type": "code",
   "execution_count": null,
   "source": [
    "gr = create_polar_graph()\r\n",
    "get_meas_vals(gr)"
   ],
   "outputs": [],
   "metadata": {}
  }
 ],
 "metadata": {
  "orig_nbformat": 4,
  "language_info": {
   "name": "python",
   "version": "3.8.10",
   "mimetype": "text/x-python",
   "codemirror_mode": {
    "name": "ipython",
    "version": 3
   },
   "pygments_lexer": "ipython3",
   "nbconvert_exporter": "python",
   "file_extension": ".py"
  },
  "kernelspec": {
   "name": "python3",
   "display_name": "Python 3.8.10 64-bit (conda)"
  },
  "interpreter": {
   "hash": "fba39022334ef9db8c381a2013e5ba8bafaea5a0f370d6e0fb3e2cee7eb836b9"
  }
 },
 "nbformat": 4,
 "nbformat_minor": 2
}