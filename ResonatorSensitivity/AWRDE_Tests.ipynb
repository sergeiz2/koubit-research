{
    "cells": [
        {
            "cell_type": "code",
            "execution_count": 2,
            "source": [
                "import pyawr.mwoffice as mwo\r\n",
                "import numpy as np\r\n",
                "import matplotlib.pyplot as plt\r\n",
                "from matplotlib.animation import FuncAnimation"
            ],
            "outputs": [],
            "metadata": {}
        },
        {
            "cell_type": "code",
            "execution_count": 3,
            "source": [
                "awrde = mwo.CMWOffice() #Create awrde object"
            ],
            "outputs": [],
            "metadata": {}
        },
        {
            "cell_type": "code",
            "execution_count": 4,
            "source": [
                "proj_name = awrde.Project.Name\r\n",
                "print(proj_name)"
            ],
            "outputs": [
                {
                    "output_type": "stream",
                    "name": "stdout",
                    "text": [
                        "ResonatorSiO2box.emp\n"
                    ]
                }
            ],
            "metadata": {}
        },
        {
            "cell_type": "code",
            "execution_count": 5,
            "source": [
                "NumSchem = awrde.Project.Schematics.Count\r\n",
                "for s_idx in range(NumSchem):\r\n",
                "    schem = awrde.Project.Schematics[s_idx]\r\n",
                "    print(schem.Name)"
            ],
            "outputs": [
                {
                    "output_type": "stream",
                    "name": "stdout",
                    "text": [
                        "Inductor_Subcircuit\n",
                        "ParallelCircuit_Capacitive\n",
                        "ParallelCircuit_Inductive\n",
                        "SeriesCircuit_Capacitive\n",
                        "SeriesCircuit_Inductive\n"
                    ]
                }
            ],
            "metadata": {}
        },
        {
            "cell_type": "code",
            "execution_count": 8,
            "source": [
                "print(awrde.Project.Frequencies.Item(10).Value)"
            ],
            "outputs": [
                {
                    "output_type": "stream",
                    "name": "stdout",
                    "text": [
                        "5009000000.0\n"
                    ]
                }
            ],
            "metadata": {}
        },
        {
            "cell_type": "code",
            "execution_count": null,
            "source": [
                "for ind in range(awrde.Project.Frequencies.Count):\r\n",
                "    f = awrde.Project.Frequencies.Item(ind+1).Value\r\n",
                "    print(f)"
            ],
            "outputs": [],
            "metadata": {}
        },
        {
            "cell_type": "code",
            "execution_count": 21,
            "source": [
                "awrde.Project.Simulator.Analyze()\r\n",
                "\r\n",
                "graph_name = awrde.Project.Graphs.Item(2).Name\r\n",
                "graph = awrde.Project.Graphs(graph_name)\r\n",
                "meas = graph.Measurements[0]\r\n",
                "\r\n",
                "print(meas.Name)\r\n",
                "\r\n",
                "num_pts = meas.XPointCount\r\n",
                "xs = ys = np.zeros(num_pts)\r\n",
                "\r\n",
                "fig = plt.figure()\r\n",
                "\r\n",
                "\r\n",
                "def plot_vals():\r\n",
                "    xs = meas.XValues\r\n",
                "    ys = meas.YValues(1)\r\n",
                "\r\n",
                "    ax.cla()\r\n",
                "    ax.plot(xs, ys)\r\n",
                "\r\n",
                "ax = plt.subplot(1,1,1)\r\n",
                "\r\n",
                "ani = FuncAnimation(fig, plot_vals(), interval=100)\r\n",
                "\r\n",
                "plt.show()"
            ],
            "outputs": [
                {
                    "output_type": "stream",
                    "name": "stdout",
                    "text": [
                        "ParallelCircuit_Capacitive.$FPRJ:|S(1,1)|\n"
                    ]
                },
                {
                    "output_type": "display_data",
                    "data": {
                        "text/plain": [
                            "<Figure size 432x288 with 1 Axes>"
                        ],
                        "image/png": "[encoded data removed]"
                    },
                    "metadata": {
                        "needs_background": "light"
                    }
                }
            ],
            "metadata": {}
        },
        {
            "cell_type": "code",
            "execution_count": null,
            "source": [
                "#Git test"
            ],
            "outputs": [],
            "metadata": {}
        }
    ],
    "metadata": {
        "orig_nbformat": 4,
        "language_info": {
            "name": "python",
            "version": "3.8.10",
            "mimetype": "text/x-python",
            "codemirror_mode": {
                "name": "ipython",
                "version": 3
            },
            "pygments_lexer": "ipython3",
            "nbconvert_exporter": "python",
            "file_extension": ".py"
        },
        "kernelspec": {
            "name": "python3",
            "display_name": "Python 3.8.10 64-bit (windows store)"
        },
        "interpreter": {
            "hash": "16cef633344a88f36236d63f65bb474c9bb294f27a018df30d9c52a05c7f61c1"
        }
    },
    "nbformat": 4,
    "nbformat_minor": 2
}