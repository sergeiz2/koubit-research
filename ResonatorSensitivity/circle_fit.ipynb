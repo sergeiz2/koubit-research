{
 "cells": [
  {
   "cell_type": "code",
   "execution_count": 2,
   "source": [
    "import pyawr.mwoffice as mwo\r\n",
    "\r\n",
    "import numpy as np\r\n",
    "from numpy.polynomial.polynomial import polyfit\r\n",
    "\r\n",
    "import matplotlib.pyplot as plt\r\n",
    "\r\n",
    "import qkit.analysis.circle_fit.circle_fit_2019.circuit as cf\r\n",
    "\r\n",
    "#***PICK ONE***\r\n",
    "#Agg rendering embedded in a Jupyter widget. (inline) Requires ipympl:\r\n",
    "# %matplotlib ipympl \r\n",
    "#Agg rendering to a Tk canvas (new window) Requires TkInter:\r\n",
    "# %matplotlib tk "
   ],
   "outputs": [
    {
     "output_type": "error",
     "ename": "ModuleNotFoundError",
     "evalue": "No module named 'qkit'",
     "traceback": [
      "\u001b[1;31m---------------------------------------------------------------------------\u001b[0m",
      "\u001b[1;31mModuleNotFoundError\u001b[0m                       Traceback (most recent call last)",
      "\u001b[1;32m<ipython-input-2-2b0d8cdab423>\u001b[0m in \u001b[0;36m<module>\u001b[1;34m\u001b[0m\n\u001b[0;32m      6\u001b[0m \u001b[1;32mimport\u001b[0m \u001b[0mmatplotlib\u001b[0m\u001b[1;33m.\u001b[0m\u001b[0mpyplot\u001b[0m \u001b[1;32mas\u001b[0m \u001b[0mplt\u001b[0m\u001b[1;33m\u001b[0m\u001b[1;33m\u001b[0m\u001b[0m\n\u001b[0;32m      7\u001b[0m \u001b[1;33m\u001b[0m\u001b[0m\n\u001b[1;32m----> 8\u001b[1;33m \u001b[1;32mimport\u001b[0m \u001b[0mqkit\u001b[0m\u001b[1;33m.\u001b[0m\u001b[0manalysis\u001b[0m\u001b[1;33m.\u001b[0m\u001b[0mcircle_fit\u001b[0m\u001b[1;33m.\u001b[0m\u001b[0mcircle_fit_2019\u001b[0m\u001b[1;33m.\u001b[0m\u001b[0mcircuit\u001b[0m \u001b[1;32mas\u001b[0m \u001b[0mcf\u001b[0m\u001b[1;33m\u001b[0m\u001b[1;33m\u001b[0m\u001b[0m\n\u001b[0m\u001b[0;32m      9\u001b[0m \u001b[1;33m\u001b[0m\u001b[0m\n\u001b[0;32m     10\u001b[0m \u001b[1;31m#***PICK ONE***\u001b[0m\u001b[1;33m\u001b[0m\u001b[1;33m\u001b[0m\u001b[1;33m\u001b[0m\u001b[0m\n",
      "\u001b[1;31mModuleNotFoundError\u001b[0m: No module named 'qkit'"
     ]
    }
   ],
   "metadata": {}
  },
  {
   "cell_type": "code",
   "execution_count": null,
   "source": [
    "awrde = mwo.CMWOffice() #Create awrde object\r\n",
    "awrde.Project.Simulator.Analyze() #In/voke circuit simulator analysis"
   ],
   "outputs": [],
   "metadata": {}
  },
  {
   "cell_type": "code",
   "execution_count": null,
   "source": [
    "def reset_freqs (l_bnd=4e9, u_bnd=8e9, steps=10000):\r\n",
    "    '''\r\n",
    "    Reset the MWO project frequencies.\r\n",
    "\r\n",
    "    returns an array running from \r\n",
    "    lower_bound to upper_bound in steps steps.\r\n",
    "    '''\r\n",
    "    \r\n",
    "    awrde.Project.Frequencies.Clear() # clear the frequencies specified for the project\r\n",
    "    freq_arr = np.linspace(l_bnd, u_bnd, steps)\r\n",
    "    awrde.Project.Frequencies.AddMultiple(freq_arr) # add the frequencies in the passed frequency array\r\n",
    "\r\n",
    "    awrde.Project.Simulator.Analyze() # must run this every time after setting or changing things in MWO project!\r\n",
    "\r\n",
    "    return freq_arr"
   ],
   "outputs": [],
   "metadata": {}
  },
  {
   "cell_type": "code",
   "execution_count": null,
   "source": [
    "def set_circ_params(circ_name='Sample_Subcircuit', get_params=False, **kwargs): \r\n",
    "    '''Sets specified circuit parameters in circuit called circ_name.\r\n",
    "    \r\n",
    "\r\n",
    "    If you attempt to pass a parameter that doesn't exit in the circuit called circ_name, \r\n",
    "    MWO will throw an error.\r\n",
    "\r\n",
    "    Returns a dictionary with the new values.\r\n",
    "    '''\r\n",
    "\r\n",
    "    passed_circ_param_vals = { # dictionary of subcircuit element parameter values (e.g. the value of the capacitor (element's) capacitance (parameter.))\r\n",
    "        'CAP': awrde.Project.Schematics(circ_name).Elements(1).Parameters(2).ValueAsDouble,\r\n",
    "        'IND': awrde.Project.Schematics(circ_name).Elements(2).Parameters(2).ValueAsDouble,\r\n",
    "        'RES': awrde.Project.Schematics(circ_name).Elements(3).Parameters(2).ValueAsDouble\r\n",
    "    }\r\n",
    "    passed_circ_params = { # dictionary of subcircuit component \r\n",
    "        'CAP': awrde.Project.Schematics(circ_name).Elements(1).Parameters(2),\r\n",
    "        'IND': awrde.Project.Schematics(circ_name).Elements(2).Parameters(2),\r\n",
    "        'RES': awrde.Project.Schematics(circ_name).Elements(3).Parameters(2)\r\n",
    "    }\r\n",
    "\r\n",
    "    # print(\"DEBUG: Setting:\" + kwargs.__str__())\r\n",
    "\r\n",
    "    new_circ_param_vals = {**passed_circ_param_vals, **kwargs} # in the case of duplicate keys, only the later key-value pair is preserved\r\n",
    "    # print(\"DEBUG: new parameters:\" + new_circ_param_vals.__str__())\r\n",
    "\r\n",
    "    for i, value in enumerate(new_circ_param_vals.values()):\r\n",
    "        list(passed_circ_params.values())[i].ValueAsDouble = value # in python3, dict.keys(), .values(), and .items() return dynamically changing view objects, but not the objects themselves. Hence, list().\r\n",
    "\r\n",
    "        # print(\"DEBUG: \" + list(passed_circ_param_vals)[i] + \" set to \" + str(value))\r\n",
    "    \r\n",
    "    if not(get_params):\r\n",
    "        awrde.Project.Simulator.Analyze() # must run this every time after setting or changing things in MWO project!\r\n",
    "\r\n",
    "    return new_circ_param_vals"
   ],
   "outputs": [],
   "metadata": {}
  },
  {
   "cell_type": "code",
   "execution_count": null,
   "source": [
    "def create_polar_graph(schem_name='Hanger_Test'):\r\n",
    "    graphs = awrde.Project.Graphs\r\n",
    "    # TODO: Name helper graph appropriately\r\n",
    "    graph = graphs.Add(\"CalcHelper {}\".format(schem_name), mwo.mwGraphType.mwGT_Polar)\r\n",
    "\r\n",
    "    graph.Measurements.Add(schem_name, 'S(2,1)')\r\n",
    "\r\n",
    "    return graph"
   ],
   "outputs": [],
   "metadata": {}
  },
  {
   "cell_type": "code",
   "execution_count": null,
   "source": [
    "def delete_graph(graph=None):\r\n",
    "    for i in range(awrde.Project.Graphs.Count):\r\n",
    "        if awrde.Project.Graphs.Item(i+1).Name == graph.Name:\r\n",
    "            ret = awrde.Project.Graphs.Remove(i+1)\r\n",
    "\r\n",
    "    return ret"
   ],
   "outputs": [],
   "metadata": {}
  },
  {
   "cell_type": "code",
   "execution_count": null,
   "source": [
    "def get_meas_vals(graph=None):\r\n",
    "    #TODO: iterate over all measurement indicies, add a try-catch for when there's only 1 measurement on the graph\r\n",
    "    meas = graph.Measurements[0]\r\n",
    "\r\n",
    "    trace = meas.TraceValues(1)\r\n",
    "    freqs, real, imag = zip(*trace)\r\n",
    "\r\n",
    "    return (freqs, real, imag)"
   ],
   "outputs": [],
   "metadata": {}
  },
  {
   "cell_type": "code",
   "execution_count": null,
   "source": [
    "def plot_polar(re, im):\r\n",
    "    print(re)\r\n",
    "    print(im)\r\n",
    "\r\n",
    "    plt.scatter(re, im)"
   ],
   "outputs": [],
   "metadata": {}
  },
  {
   "cell_type": "code",
   "execution_count": null,
   "source": [
    "def plot_and_fit():\r\n",
    "\r\n",
    "    gr = create_polar_graph()\r\n",
    "    awrde.Project.Simulator.Analyze()\r\n",
    "    meas_vals = get_meas_vals(gr)\r\n",
    "    freqs, real, imag = np.asarray(meas_vals)\r\n",
    "    plot_polar(real, imag)\r\n",
    "    cpx = real + imag*1j\r\n",
    "    delete_graph(gr)\r\n",
    "\r\n",
    "    circ = cf.reflection_port(freqs, cpx)\r\n",
    "    circ.autofit()\r\n",
    "    circ.plotall()\r\n",
    "    print(circ.fitresults)\r\n",
    "\r\n",
    "    return circ"
   ],
   "outputs": [],
   "metadata": {}
  },
  {
   "cell_type": "code",
   "execution_count": null,
   "source": [
    "def is_fit_good(circ):\r\n",
    "    fit_good = False\r\n",
    "\r\n",
    "    if circ.Ql>0 and circ.Qc>0 and circ.Qi>0:\r\n",
    "        print(\"Qs all positive.\")\r\n",
    "\r\n",
    "        if circ.f_data[0] < circ.fr < circ.f_data[-1]:\r\n",
    "            print(\"fr in f_data\")\r\n",
    "            fit_good = True\r\n",
    "        \r\n",
    "        else:\r\n",
    "            fit_good = False\r\n",
    "\r\n",
    "    else:\r\n",
    "        fit_good = False\r\n",
    "    \r\n",
    "    return fit_good"
   ],
   "outputs": [],
   "metadata": {}
  },
  {
   "cell_type": "code",
   "execution_count": null,
   "source": [
    "from sympy import Symbol, diff, exp, cos, pi, lambdify\r\n",
    "\r\n",
    "class analyze_circuit(cf.circuit):\r\n",
    "    '''\r\n",
    "    Circlefit class for finding the exact derivative of Sij and maximizing it.\r\n",
    "    '''\r\n",
    "\r\n",
    "    n_ports = None\r\n",
    "    f_data = None\r\n",
    "\r\n",
    "    def __init__(self, circ):\r\n",
    "        self.n_ports = circ.n_ports\r\n",
    "        self.f_data = circ.f_data\r\n",
    "\r\n",
    "    def sensitive_Sij(self, fr, Ql, Qc, phi=0., a=1., alpha=0., delay=0.):\r\n",
    "        '''\r\n",
    "        Returns the frequency at which the magnitude of the derivative of Sij is maximized.\r\n",
    "        '''\r\n",
    "\r\n",
    "        f = Symbol('f', real=True)\r\n",
    "\r\n",
    "        complexQc = Qc*cos(phi)*exp(-1j*phi)\r\n",
    "        S = a*exp(1j*(alpha-2*pi*f*delay)) * (\r\n",
    "            1. - 2.*Ql / (complexQc * self.n_ports * (1. + 2j*Ql*(f/fr-1.)))\r\n",
    "        )\r\n",
    "\r\n",
    "        ds = diff(S, f)\r\n",
    "        ds_np = lambdify(f, ds, 'numpy')\r\n",
    "        #NOTE: I'm just maximizing the magnititude of the derivatives of Sij here... Complex numbers have no ordering\r\n",
    "        ds_mags = np.asarray(np.abs(ds_np(self.f_data)))\r\n",
    "        arg = np.argmax(ds_mags)\r\n",
    "\r\n",
    "        return self.f_data[arg]\r\n",
    "\r\n",
    "\r\n"
   ],
   "outputs": [],
   "metadata": {}
  },
  {
   "cell_type": "code",
   "execution_count": null,
   "source": [
    "def fit_circ(circ_type='reflection_port'):\r\n",
    "\r\n",
    "    gr = create_polar_graph()\r\n",
    "    awrde.Project.Simulator.Analyze()\r\n",
    "    meas_vals = get_meas_vals(gr)\r\n",
    "    freqs, real, imag = np.asarray(meas_vals)\r\n",
    "    plot_polar(real, imag)\r\n",
    "    cpx = real + imag*1j\r\n",
    "    delete_graph(gr)\r\n",
    "\r\n",
    "    if circ_type == 'reflection_port':\r\n",
    "        circ = cf.reflection_port(freqs, cpx)\r\n",
    "        circ.autofit()\r\n",
    "        circ.plotall()\r\n",
    "        print(circ.fitresults)\r\n",
    "    \r\n",
    "    elif circ_type == 'notch_port':\r\n",
    "        circ = cf.notch_port(freqs, cpx)\r\n",
    "        circ.autofit()\r\n",
    "        circ.plotall()\r\n",
    "        print(circ.fitresults)\r\n",
    "\r\n",
    "    else:\r\n",
    "        print(\"Invalid circuit measurement mode! Must be 'reflection' or 'notch'.\")\r\n",
    "\r\n",
    "    return circ"
   ],
   "outputs": [],
   "metadata": {}
  },
  {
   "cell_type": "code",
   "execution_count": null,
   "source": [
    "reset_freqs()\r\n",
    "circ = plot_and_fit()\r\n",
    "is_fit_good(circ)"
   ],
   "outputs": [
    {
     "output_type": "error",
     "ename": "NameError",
     "evalue": "name 'reset_freqs' is not defined",
     "traceback": [
      "\u001b[1;31m---------------------------------------------------------------------------\u001b[0m",
      "\u001b[1;31mNameError\u001b[0m                                 Traceback (most recent call last)",
      "\u001b[1;32m<ipython-input-1-8793308e2c1e>\u001b[0m in \u001b[0;36m<module>\u001b[1;34m\u001b[0m\n\u001b[1;32m----> 1\u001b[1;33m \u001b[0mreset_freqs\u001b[0m\u001b[1;33m(\u001b[0m\u001b[1;33m)\u001b[0m\u001b[1;33m\u001b[0m\u001b[1;33m\u001b[0m\u001b[0m\n\u001b[0m\u001b[0;32m      2\u001b[0m \u001b[0mcirc\u001b[0m \u001b[1;33m=\u001b[0m \u001b[0mplot_and_fit\u001b[0m\u001b[1;33m(\u001b[0m\u001b[1;33m)\u001b[0m\u001b[1;33m\u001b[0m\u001b[1;33m\u001b[0m\u001b[0m\n\u001b[0;32m      3\u001b[0m \u001b[0mis_fit_good\u001b[0m\u001b[1;33m(\u001b[0m\u001b[0mcirc\u001b[0m\u001b[1;33m)\u001b[0m\u001b[1;33m\u001b[0m\u001b[1;33m\u001b[0m\u001b[0m\n",
      "\u001b[1;31mNameError\u001b[0m: name 'reset_freqs' is not defined"
     ]
    }
   ],
   "metadata": {}
  }
 ],
 "metadata": {
  "orig_nbformat": 4,
  "language_info": {
   "name": "python",
   "version": "3.8.10",
   "mimetype": "text/x-python",
   "codemirror_mode": {
    "name": "ipython",
    "version": 3
   },
   "pygments_lexer": "ipython3",
   "nbconvert_exporter": "python",
   "file_extension": ".py"
  },
  "kernelspec": {
   "name": "python3",
   "display_name": "Python 3.8.10 64-bit (conda)"
  },
  "interpreter": {
   "hash": "fba39022334ef9db8c381a2013e5ba8bafaea5a0f370d6e0fb3e2cee7eb836b9"
  }
 },
 "nbformat": 4,
 "nbformat_minor": 2
}