{
    "cells": [
        {
            "cell_type": "code",
            "execution_count": null,
            "source": [
                "import pyawr.mwoffice as mwo\r\n",
                "import numpy as np\r\n",
                "import matplotlib.pyplot as plt\r\n",
                "\r\n",
                "from matplotlib.animation import FuncAnimation \r\n",
                "\r\n",
                "'***PICK ONE***'\r\n",
                "#Agg rendering embedded in a Jupyter widget. (inline) Requires ipympl:\r\n",
                "%matplotlib ipympl \r\n",
                "#Agg rendering to a Tk canvas (new window) Requires TkInter:\r\n",
                "# %matplotlib tk "
            ],
            "outputs": [],
            "metadata": {}
        },
        {
            "cell_type": "code",
            "execution_count": null,
            "source": [
                "awrde = mwo.CMWOffice() #Create awrde object\r\n",
                "awrde.Project.Simulator.Analyze() #Invoke circuit simulator analysis"
            ],
            "outputs": [],
            "metadata": {}
        },
        {
            "cell_type": "code",
            "execution_count": null,
            "source": [
                "graph_name = awrde.Project.Graphs.Item(2).Name # graphs are named in MWO. This is how you get the name.\r\n",
                "graph = awrde.Project.Graphs(graph_name) # get the graph object by name\r\n",
                "meas = graph.Measurements[0] # get the measurement object (e.g the plot of S11) from the graph Graph(graph_name)"
            ],
            "outputs": [],
            "metadata": {}
        },
        {
            "cell_type": "code",
            "execution_count": null,
            "source": [
                "awrde.Project.Frequencies.Clear() # clear the frequencies specified for the project\r\n",
                "awrde.Project.Frequencies.AddMultiple(np.linspace(4e9, 8e9, 10000)) # add the frequencies in the passed prequency array"
            ],
            "outputs": [],
            "metadata": {}
        },
        {
            "cell_type": "code",
            "execution_count": null,
            "source": [
                "'''This entire block is nonsense'''\r\n",
                "\r\n",
                "sample_circ_name = 'Inductor_Subcircuit'\r\n",
                "sample_circ_param_vals = {\r\n",
                "    'CAP': awrde.Project.Schematics(sample_circ_name).Elements(1).Parameters(2).ValueAsDouble,\r\n",
                "    'IND': awrde.Project.Schematics(sample_circ_name).Elements(2).Parameters(2).ValueAsDouble,\r\n",
                "    'RES': awrde.Project.Schematics(sample_circ_name).Elements(3).Parameters(2).ValueAsDouble\r\n",
                "}\r\n",
                "\r\n",
                "print(sample_circ_param_vals)\r\n",
                "\r\n",
                "def bad_set_circ_params(**kwargs): # dictionary keys should match keys in sample_circ_params\r\n",
                "    print(\"About to set:\" + kwargs.keys().__str__())\r\n",
                "\r\n",
                "    sample_circ_params = {    \r\n",
                "        'CAP': awrde.Project.Schematics(sample_circ_name).Elements(1).Parameters(2),\r\n",
                "        'IND': awrde.Project.Schematics(sample_circ_name).Elements(2).Parameters(2),\r\n",
                "        'RES': awrde.Project.Schematics(sample_circ_name).Elements(3).Parameters(2)\r\n",
                "    }\r\n",
                "\r\n",
                "    new_circ_param_vals = {**kwargs, **sample_circ_param_vals}\r\n",
                "    print(new_circ_param_vals)\r\n",
                "\r\n",
                "    for param in sample_circ_params.items():\r\n",
                "        awrde.Project.Schematics(sample_circ_name).Elements(1).Parameters(2).ValueAsDouble = new_circ_param_vals.get(param[0])\r\n",
                "        print(new_circ_param_vals.get(param[0]))\r\n",
                "\r\n",
                "# set_circ_params(CAP=0)\r\n",
                "    \r\n",
                "    # awrde.Project.Schematics(schem_name).Elements(1).Parameters(2).ValueAsDouble(new_circ_params.values[0])\r\n",
                "    # awrde.Project.Schematics(schem_name).Elements(2).Parameters(2).ValueAsDouble(new_circ_params.values[1])\r\n",
                "    # awrde.Project.Schematics(schem_name).Elements(3).Parameters(2).ValueAsDouble(new_circ_params.values[2])"
            ],
            "outputs": [],
            "metadata": {}
        },
        {
            "cell_type": "code",
            "execution_count": null,
            "source": [
                "'''Set subcircuit paramter values'''\r\n",
                "\r\n",
                "sample_circ_name = 'Inductor_Subcircuit'\r\n",
                "sample_circ_param_vals = { # dictionary of subcircuit element parameter values (e.g. the value of the capacitor (element's) capacitance (parameter.))\r\n",
                "    'CAP': awrde.Project.Schematics(sample_circ_name).Elements(1).Parameters(2).ValueAsDouble,\r\n",
                "    'IND': awrde.Project.Schematics(sample_circ_name).Elements(2).Parameters(2).ValueAsDouble,\r\n",
                "    'RES': awrde.Project.Schematics(sample_circ_name).Elements(3).Parameters(2).ValueAsDouble\r\n",
                "}\r\n",
                "sample_circ_params = { # dictionary of subcircuit component \r\n",
                "    'CAP': awrde.Project.Schematics(sample_circ_name).Elements(1).Parameters(2),\r\n",
                "    'IND': awrde.Project.Schematics(sample_circ_name).Elements(2).Parameters(2),\r\n",
                "    'RES': awrde.Project.Schematics(sample_circ_name).Elements(3).Parameters(2)\r\n",
                "}\r\n",
                "\r\n",
                "def set_circ_params(**kwargs): # dictionary keys should match keys in sample_circ_params. If you attempt to pass a parameter that doesn't exit, MWO will throw an error.\r\n",
                "    print(\"About to set:\" + kwargs.__str__())\r\n",
                "\r\n",
                "    new_circ_param_vals = {**sample_circ_param_vals, **kwargs} # in the case of duplicate keys, only the later key-value pair is preserved\r\n",
                "    print(\"DEBUG: new parameters:\" + new_circ_param_vals.__str__())\r\n",
                "\r\n",
                "    for i, value in enumerate(new_circ_param_vals.values()):\r\n",
                "        list(sample_circ_params.values())[i].ValueAsDouble = value # in python3, dict.keys(), .values(), and .items() return dynamically changing view objects, but not the objects themselves. Hence, list().\r\n",
                "\r\n",
                "        # print(\"DEBUG: \" + list(sample_circ_param_vals)[i] + \" set to \" + str(value))\r\n"
            ],
            "outputs": [],
            "metadata": {}
        },
        {
            "cell_type": "code",
            "execution_count": null,
            "source": [
                "'''Specifiying the sweep of a parameter'''\r\n",
                "\r\n",
                "# -----USER-SETTABLE:-----\r\n",
                "sample_circ_param_bounds = {\r\n",
                "    # If a paramter is missing it will not be reset. \r\n",
                "    #'COMPONENT' : (lower_bound, upper_bound)    \r\n",
                "    'CAP': (0,1),\r\n",
                "    # 'IND': (0,1),\r\n",
                "    # 'RES': (1000000000,1000000000)\r\n",
                "}\r\n",
                "resolution = 10 # sets the number of parameter values to simulate between the bounds (i.e. the resolution of the simulation.)\r\n",
                "#-------------------------\r\n",
                "\r\n",
                "sample_circ_param_arrays = dict.fromkeys(sample_circ_param_bounds)\r\n",
                "\r\n",
                "keys = sample_circ_param_arrays.keys()\r\n",
                "bnds = sample_circ_param_bounds.values()\r\n",
                "arrs = list(np.linspace(*bnds_tuple, resolution) for bnds_tuple in bnds)\r\n",
                "\r\n",
                "sample_circ_param_arrays.update(zip(keys, arrs))\r\n",
                "\r\n",
                "print(\"DEBUG: \" + sample_circ_param_arrays.__str__())\r\n",
                " "
            ],
            "outputs": [],
            "metadata": {}
        },
        {
            "cell_type": "code",
            "execution_count": null,
            "source": [
                "'''Running the sumulation with set parameters'''\r\n",
                "\r\n",
                "# FIXME: This loop actually changes all the elements simultaneously. Add some logic to do it iteratively...\r\n",
                "for ind in range(resolution):\r\n",
                "    indiv_vals = list(arr[ind] for arr in arrs)\r\n",
                "    ele_val_dict = dict(zip(keys, indiv_vals))\r\n",
                "    # FIXME: This is probably not great, first creating a dictionary then unpacking it immediately...\r\n",
                "    set_circ_params(**ele_val_dict)\r\n",
                "\r\n",
                "    print('DEBUG: ' + ele_val_dict.__str__())\r\n",
                "    "
            ],
            "outputs": [],
            "metadata": {}
        }
    ],
    "metadata": {
        "orig_nbformat": 4,
        "language_info": {
            "name": "python",
            "version": "3.8.10",
            "mimetype": "text/x-python",
            "codemirror_mode": {
                "name": "ipython",
                "version": 3
            },
            "pygments_lexer": "ipython3",
            "nbconvert_exporter": "python",
            "file_extension": ".py"
        },
        "kernelspec": {
            "name": "python3",
            "display_name": "Python 3.8.10 64-bit (conda)"
        },
        "interpreter": {
            "hash": "fba39022334ef9db8c381a2013e5ba8bafaea5a0f370d6e0fb3e2cee7eb836b9"
        }
    },
    "nbformat": 4,
    "nbformat_minor": 2
}