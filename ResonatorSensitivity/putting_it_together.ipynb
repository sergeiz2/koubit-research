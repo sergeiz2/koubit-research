{
 "cells": [
  {
   "cell_type": "code",
   "execution_count": 8,
   "source": [
    "import pyawr.mwoffice as mwo\r\n",
    "import numpy as np\r\n",
    "import matplotlib.pyplot as plt\r\n",
    "\r\n",
    "from scipy.signal import savgol_filter\r\n",
    "from matplotlib.animation import FuncAnimation \r\n",
    "\r\n",
    "'***PICK ONE***'\r\n",
    "#Agg rendering embedded in a Jupyter widget. (inline) Requires ipympl:\r\n",
    "# %matplotlib ipympl \r\n",
    "#Agg rendering to a Tk canvas (new window) Requires TkInter:\r\n",
    "%matplotlib tk "
   ],
   "outputs": [],
   "metadata": {}
  },
  {
   "cell_type": "code",
   "execution_count": 9,
   "source": [
    "awrde = mwo.CMWOffice() #Create awrde object\r\n",
    "awrde.Project.Simulator.Analyze() #Invoke circuit simulator analysis"
   ],
   "outputs": [],
   "metadata": {}
  },
  {
   "cell_type": "code",
   "execution_count": 10,
   "source": [
    "def reset_freqs (l_bnd=4e9, u_bnd=8e9, steps=10000):\r\n",
    "    '''Reset the MWO project frequencies.\r\n",
    "\r\n",
    "    returns an array running from \r\n",
    "    lower_bound to upper_bound in steps steps.'''\r\n",
    "    \r\n",
    "    awrde.Project.Frequencies.Clear() # clear the frequencies specified for the project\r\n",
    "    freq_arr = np.linspace(l_bnd, u_bnd, steps)\r\n",
    "    awrde.Project.Frequencies.AddMultiple(freq_arr) # add the frequencies in the passed frequency array\r\n",
    "\r\n",
    "    return freq_arr"
   ],
   "outputs": [],
   "metadata": {}
  },
  {
   "cell_type": "code",
   "execution_count": 11,
   "source": [
    "def set_circ_params(circ_name='Inductor_Subcircuit', **kwargs): \r\n",
    "    '''Sets specified circuit parameters in circuit called circ_name.\r\n",
    "    \r\n",
    "\r\n",
    "    If you attempt to pass a parameter that doesn't exit in the circuit called circ_name, \r\n",
    "    MWO will throw an error.\r\n",
    "\r\n",
    "    Returns a dictionary with the new values.\r\n",
    "    '''\r\n",
    "\r\n",
    "    passed_circ_param_vals = { # dictionary of subcircuit element parameter values (e.g. the value of the capacitor (element's) capacitance (parameter.))\r\n",
    "        'CAP': awrde.Project.Schematics(circ_name).Elements(1).Parameters(2).ValueAsDouble,\r\n",
    "        'IND': awrde.Project.Schematics(circ_name).Elements(2).Parameters(2).ValueAsDouble,\r\n",
    "        'RES': awrde.Project.Schematics(circ_name).Elements(3).Parameters(2).ValueAsDouble\r\n",
    "    }\r\n",
    "    passed_circ_params = { # dictionary of subcircuit component \r\n",
    "        'CAP': awrde.Project.Schematics(circ_name).Elements(1).Parameters(2),\r\n",
    "        'IND': awrde.Project.Schematics(circ_name).Elements(2).Parameters(2),\r\n",
    "        'RES': awrde.Project.Schematics(circ_name).Elements(3).Parameters(2)\r\n",
    "    }\r\n",
    "\r\n",
    "    print(\"Setting:\" + kwargs.__str__())\r\n",
    "\r\n",
    "    new_circ_param_vals = {**passed_circ_param_vals, **kwargs} # in the case of duplicate keys, only the later key-value pair is preserved\r\n",
    "    # print(\"DEBUG: new parameters:\" + new_circ_param_vals.__str__())\r\n",
    "\r\n",
    "    for i, value in enumerate(new_circ_param_vals.values()):\r\n",
    "        list(passed_circ_params.values())[i].ValueAsDouble = value # in python3, dict.keys(), .values(), and .items() return dynamically changing view objects, but not the objects themselves. Hence, list().\r\n",
    "\r\n",
    "        # print(\"DEBUG: \" + list(passed_circ_param_vals)[i] + \" set to \" + str(value))\r\n",
    "    \r\n",
    "    return new_circ_param_vals"
   ],
   "outputs": [],
   "metadata": {}
  },
  {
   "cell_type": "code",
   "execution_count": 15,
   "source": [
    "# ***********************************************\r\n",
    "# *                Plotting S11                 *\r\n",
    "# ***********************************************\r\n",
    "\r\n",
    "def plot_graph(graph_name='Parallel', *args):\r\n",
    "    graph = awrde.Project.Graphs(graph_name)\r\n",
    "    meas = graph.Measurements[0]\r\n",
    "\r\n",
    "    num_pts = meas.XPointCount\r\n",
    "    xs = ys = dys = np.zeros(num_pts)\r\n",
    "\r\n",
    "    print(xs)\r\n",
    "\r\n",
    "    def animate_smooth(n_frm): #Animate method for FuncAnimation\r\n",
    "        xs = np.asarray(meas.XValues)\r\n",
    "        ys = np.asarray(meas.YValues(1))\r\n",
    "        ys_savgol = savgol_filter(ys, window_length=99, polyorder=3)\r\n",
    "        dys_savgol = savgol_filter(ys, window_length=99, polyorder=3, deriv=1)\r\n",
    "        abs_dys_savgol = np.abs(dys_savgol)\r\n",
    "\r\n",
    "        axs_smooth[0].cla()\r\n",
    "        axs_smooth[1].cla()\r\n",
    "        axs_smooth[0].plot(xs, ys_savgol, 'r') # applying a savgol filer\r\n",
    "        axs_smooth[1].plot(xs, abs_dys_savgol, 'b') # applying a savgol filter, with differentiation\r\n",
    "        # axs_smooth[0].plot(xs, ys, 'r')\r\n",
    "        # axs_smooth[1].plot(xs, abs_dys, 'b')\r\n",
    "\r\n",
    "    # TODO: Get zoom to work?\r\n",
    "    fig_smooth, axs_smooth = plt.subplots(2, 1, sharex='all')\r\n",
    "    \r\n",
    "    #TODO: Figure out this blit thing\r\n",
    "    ani = FuncAnimation(fig_smooth, animate_smooth, interval=500, blit=False) # create animation object. blit=True is for smoother animations, only changed data should be updated.\r\n",
    "    fig_smooth.suptitle(graph_name)\r\n",
    "    plt.show()\r\n",
    "    return ani # Important! Without this, ani goes out of scope and the animation gets garbage collected!\r\n",
    "\r\n",
    "\r\n",
    "# ***********************************************\r\n",
    "# *           Plotting S11: Parallel            *\r\n",
    "# ***********************************************\r\n",
    "\r\n",
    "graph_name = 'Parallel'\r\n",
    "ani1 = plot_graph(graph_name) \r\n",
    "\r\n",
    "\r\n",
    "# ***********************************************\r\n",
    "# *            Plotting S11: Series             *\r\n",
    "# ***********************************************\r\n",
    "\r\n",
    "graph_name = 'Series'\r\n",
    "ani2 = plot_graph(graph_name)"
   ],
   "outputs": [
    {
     "output_type": "stream",
     "name": "stdout",
     "text": [
      "[0. 0. 0. ... 0. 0. 0.]\n",
      "[0. 0. 0. ... 0. 0. 0.]\n"
     ]
    }
   ],
   "metadata": {}
  },
  {
   "cell_type": "code",
   "execution_count": 11,
   "source": [
    "# ***********************************************\r\n",
    "# *    Specifiying the sweep of a parameter:    *\r\n",
    "# ***********************************************\r\n",
    "\r\n",
    "# ---------------USER-SETTABLE:-------------- #\r\n",
    "# If a parameter is missing from the dictionary it will not be reset.\r\n",
    "# If you want to keep something constant then comment it out.\r\n",
    "# If you want to set it to a differnt constant then set lower_bound = upper_bound. \r\n",
    "# If you only want to change one variable at a time then... uhh... stay tuned.\r\n",
    "#'COMPONENT' : (lower_bound, upper_bound)    \r\n",
    "sample_circ_param_bounds = {\r\n",
    "    'CAP': (2e-14,2e-12),\r\n",
    "    # 'IND': (0,1),\r\n",
    "    'RES': (1000000000,1000000000)\r\n",
    "}\r\n",
    "\r\n",
    "resolution = 10 # sets the number of parameter values to simulate (i.e. the resolution.)\r\n",
    "# ------------------------------------------- #\r\n",
    "\r\n",
    "sample_circ_param_arrays = dict.fromkeys(sample_circ_param_bounds)\r\n",
    "\r\n",
    "keys = sample_circ_param_arrays.keys()\r\n",
    "bnds = sample_circ_param_bounds.values()\r\n",
    "arrs = list(np.linspace(*bnds_tuple, resolution) for bnds_tuple in bnds)\r\n",
    "\r\n",
    "sample_circ_param_arrays.update(zip(keys, arrs))\r\n",
    "\r\n",
    "# print(\"DEBUG: \" + sample_circ_param_arrays.__str__())\r\n",
    " \r\n",
    "\r\n",
    "# ***********************************************\r\n",
    "# * Running the sumulation with set parameters: *\r\n",
    "# ***********************************************\r\n",
    "\r\n",
    "# FIXME: This loop actually changes all the elements simultaneously. Add some logic to do it iteratively...\r\n",
    "for ind in range(resolution):\r\n",
    "    indiv_vals = list(arr[ind] for arr in arrs)\r\n",
    "    ele_val_dict = dict(zip(keys, indiv_vals))\r\n",
    "    # FIXME: This is probably not great, first creating a dictionary then unpacking it immediately...\r\n",
    "    set_circ_params(**ele_val_dict)\r\n",
    "\r\n",
    "    # print('DEBUG: ' + ele_val_dict.__str__())\r\n",
    "    "
   ],
   "outputs": [
    {
     "output_type": "stream",
     "name": "stdout",
     "text": [
      "Setting:{'CAP': 2e-14, 'RES': 1000000000.0}\n",
      "Setting:{'CAP': 2.4e-13, 'RES': 1000000000.0}\n",
      "Setting:{'CAP': 4.6e-13, 'RES': 1000000000.0}\n",
      "Setting:{'CAP': 6.8e-13, 'RES': 1000000000.0}\n",
      "Setting:{'CAP': 9e-13, 'RES': 1000000000.0}\n",
      "Setting:{'CAP': 1.1199999999999999e-12, 'RES': 1000000000.0}\n",
      "Setting:{'CAP': 1.34e-12, 'RES': 1000000000.0}\n",
      "Setting:{'CAP': 1.5599999999999998e-12, 'RES': 1000000000.0}\n",
      "Setting:{'CAP': 1.7799999999999999e-12, 'RES': 1000000000.0}\n",
      "Setting:{'CAP': 2e-12, 'RES': 1000000000.0}\n"
     ]
    }
   ],
   "metadata": {}
  },
  {
   "cell_type": "code",
   "execution_count": null,
   "source": [
    "def high_res_bounds():\r\n",
    "    '''Focuses on the peak of S11 to get rid of noisy data'''\r\n",
    "    \r\n",
    "\r\n",
    "    graph = awrde.Project.Graphs(graph_name)\r\n",
    "    meas = graph.Measurements[0]\r\n",
    "\r\n",
    "    num_pts = meas.XPointCount\r\n",
    "    xs = ys = dys = np.zeros(num_pts)"
   ],
   "outputs": [],
   "metadata": {}
  }
 ],
 "metadata": {
  "orig_nbformat": 4,
  "language_info": {
   "name": "python",
   "version": "3.8.10",
   "mimetype": "text/x-python",
   "codemirror_mode": {
    "name": "ipython",
    "version": 3
   },
   "pygments_lexer": "ipython3",
   "nbconvert_exporter": "python",
   "file_extension": ".py"
  },
  "kernelspec": {
   "name": "python3",
   "display_name": "Python 3.8.10 64-bit (conda)"
  },
  "interpreter": {
   "hash": "fba39022334ef9db8c381a2013e5ba8bafaea5a0f370d6e0fb3e2cee7eb836b9"
  }
 },
 "nbformat": 4,
 "nbformat_minor": 2
}